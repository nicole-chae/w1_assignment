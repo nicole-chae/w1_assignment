{
 "cells": [
  {
   "cell_type": "code",
   "execution_count": 35,
   "metadata": {},
   "outputs": [],
   "source": [
    "import numpy as np\n",
    "\n",
    "class neuralNetwork:\n",
    "    \n",
    "    #신경망 초기화\n",
    "    def __init__(self, inputnodes, hiddennodes, outputnodes, learningrate, epochs):\n",
    "        \n",
    "        #입력, 은닉, 출력 계층의 노드 개수 결정\n",
    "        self.inodes = inputnodes\n",
    "        self.hnodes= hiddennodes\n",
    "        self.onodes = outputnodes\n",
    "        \n",
    "        #학습률 / epochs\n",
    "        self.lr = learningrate\n",
    "        self.epochs = epochs\n",
    "        \n",
    "        #가중치 행렬 whidden_1, whidden_2, who / bias hidden, output\n",
    "        self.whidden = np.random.uniform(size=(self.inodes, self.hnodes))\n",
    "        self.hidden_bias = np.random.uniform(size=(1, self.hnodes))\n",
    "        self.woutput = np.random.uniform(size=(self.hnodes, self.onodes))\n",
    "        self.output_bias = np.random.uniform(size=(1, self.onodes))\n",
    "       \n",
    "        \n",
    "        #활성화 함수로는 시그모이드 함수\n",
    "        self.activation_function = lambda x: 1 / (1+np.exp(-x))\n",
    "        \n",
    "        print(\"Initial Hidden Layer 1 Weight: \", end=\"\")\n",
    "        print(self.whidden)\n",
    "        print(\"Initial Hidden Bias 1 Weight: \", end=\"\")\n",
    "        print(self.hidden_bias)\n",
    "        print(\"Initial Hidden Layer 2 Weight: \", end=\"\")\n",
    "        print(self.woutput)\n",
    "        print(\"Initial Hidden Bias 2 Weight: \", end=\"\")\n",
    "        print(self.output_bias)\n",
    "        \n",
    "    def train(self, x, y):\n",
    "        inputs, expected_outputs = x, y\n",
    "        \n",
    "        net_nj = np.dot(inputs, self.whidden) + self.hidden_bias\n",
    "        h_nj = self.activation_function(net_nj)\n",
    "        net_nk = np.dot(h_nj, self.woutput) + self.output_bias\n",
    "        o_nk = self.activation_function(net_nk)\n",
    "        print(\"net_nj: \", net_nj, \"h_nj: \", h_nj, \"net_nk: \", net_nk, \"o_nk\", o_nk )\n",
    "\n",
    "        for _ in range(3):\n",
    "            \n",
    "            #Forward Propagation\n",
    "            net_nj = np.dot(inputs, self.whidden) + self.hidden_bias\n",
    "            h_nj = self.activation_function(net_nj)\n",
    "            net_nk = np.dot(h_nj, self.woutput) + self.output_bias\n",
    "            o_nk = self.activation_function(net_nk)\n",
    "         \n",
    "            #Back Propagation\n",
    "            output_layer = sum(-(expected_outputs - o_nk) * o_nk * (1-o_nk)*h_nj)\n",
    "            hidden_layer = sum(- inputs * h_nj * (1-h_nj) * self.woutput.T * (expected_outputs - o_nk) * o_nk * (1 - o_nk))\n",
    "            print(\"output\", output_layer) #(1,2)\n",
    "            print(\"hidden\", hidden_layer) #(1,2)\n",
    "        \n",
    "            #Updating Weights and Biases\n",
    "           # self.woutput -= output_layer* self.lr #(2,2)\n",
    "            #self.whidden -= hidden_layer * self.lr #(2,1)\n",
    "            \n",
    "        print(\"Final Hidden Layer 1 Weight: \", end=\"\")\n",
    "        print(self.whidden)\n",
    "        print(\"Final Hidden Bias 1 Weight: \", end=\"\")\n",
    "        print(self.hidden_bias)\n",
    "        print(\"Final Hidden Layer 2 Weight: \", end=\"\")\n",
    "        print(self.woutput)\n",
    "        print(\"Final Hidden Bias 2 Weight: \", end=\"\")\n",
    "        print(self.output_bias)\n",
    "        \n",
    "        print(\"\\nOutput from neural network after 10,000 epochs: \", end='')\n",
    "        print(o_nk)\n",
    "   \n",
    "\n"
   ]
  },
  {
   "cell_type": "code",
   "execution_count": 36,
   "metadata": {},
   "outputs": [
    {
     "name": "stdout",
     "output_type": "stream",
     "text": [
      "Initial Hidden Layer 1 Weight: [[0.06323601 0.21652056]\n",
      " [0.83932155 0.46399393]]\n",
      "Initial Hidden Bias 1 Weight: [[0.06245411 0.16175988]]\n",
      "Initial Hidden Layer 2 Weight: [[0.33186856]\n",
      " [0.96751188]]\n",
      "Initial Hidden Bias 2 Weight: [[0.61022635]]\n",
      "net_nj:  [[0.06245411 0.16175988]\n",
      " [0.90177565 0.62575381]\n",
      " [0.12569012 0.37828044]\n",
      " [0.96501166 0.84227437]] h_nj:  [[0.51560845 0.54035202]\n",
      " [0.71131426 0.65152603]\n",
      " [0.53138123 0.5934583 ]\n",
      " [0.7241241  0.69894401]] net_nk:  [[1.30413758]\n",
      " [1.47664836]\n",
      " [1.36075302]\n",
      " [1.526777  ]] o_nk [[0.78653051]\n",
      " [0.8140658 ]\n",
      " [0.79588206]\n",
      " [0.82153426]]\n",
      "output [0.11767187 0.11753073]\n",
      "hidden [0.00524511 0.01833968]\n",
      "output [0.11767187 0.11753073]\n",
      "hidden [0.00524511 0.01833968]\n",
      "output [0.11767187 0.11753073]\n",
      "hidden [0.00524511 0.01833968]\n",
      "Final Hidden Layer 1 Weight: [[0.06323601 0.21652056]\n",
      " [0.83932155 0.46399393]]\n",
      "Final Hidden Bias 1 Weight: [[0.06245411 0.16175988]]\n",
      "Final Hidden Layer 2 Weight: [[0.33186856]\n",
      " [0.96751188]]\n",
      "Final Hidden Bias 2 Weight: [[0.61022635]]\n",
      "\n",
      "Output from neural network after 10,000 epochs: [[0.78653051]\n",
      " [0.8140658 ]\n",
      " [0.79588206]\n",
      " [0.82153426]]\n"
     ]
    }
   ],
   "source": [
    "#Data Set\n",
    "x = np.array([[0,0],[0,1],[1,0],[1,1]])\n",
    "y = np.array([[0],[1],[1],[0]])\n",
    "\n",
    "#신경망 생성\n",
    "NN = neuralNetwork(2,2,1,0.5,10000)\n",
    "NN.train(x, y)\n",
    "\n",
    "\n"
   ]
  },
  {
   "cell_type": "code",
   "execution_count": 8,
   "metadata": {},
   "outputs": [
    {
     "data": {
      "text/plain": [
       "array([[3, 3],\n",
       "       [5, 5]])"
      ]
     },
     "execution_count": 8,
     "metadata": {},
     "output_type": "execute_result"
    }
   ],
   "source": []
  },
  {
   "cell_type": "code",
   "execution_count": 9,
   "metadata": {},
   "outputs": [
    {
     "data": {
      "text/plain": [
       "array([[1, 2],\n",
       "       [2, 3]])"
      ]
     },
     "execution_count": 9,
     "metadata": {},
     "output_type": "execute_result"
    }
   ],
   "source": []
  },
  {
   "cell_type": "code",
   "execution_count": null,
   "metadata": {},
   "outputs": [],
   "source": []
  }
 ],
 "metadata": {
  "kernelspec": {
   "display_name": "Python 3",
   "language": "python",
   "name": "python3"
  },
  "language_info": {
   "codemirror_mode": {
    "name": "ipython",
    "version": 3
   },
   "file_extension": ".py",
   "mimetype": "text/x-python",
   "name": "python",
   "nbconvert_exporter": "python",
   "pygments_lexer": "ipython3",
   "version": "3.7.3"
  }
 },
 "nbformat": 4,
 "nbformat_minor": 2
}
